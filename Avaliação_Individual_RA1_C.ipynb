{
  "nbformat": 4,
  "nbformat_minor": 0,
  "metadata": {
    "colab": {
      "provenance": [],
      "include_colab_link": true
    },
    "kernelspec": {
      "name": "python3",
      "display_name": "Python 3"
    },
    "language_info": {
      "name": "python"
    }
  },
  "cells": [
    {
      "cell_type": "markdown",
      "metadata": {
        "id": "view-in-github",
        "colab_type": "text"
      },
      "source": [
        "<a href=\"https://colab.research.google.com/github/GabrielCoradin/Resolu-o-de-Problemas-de-Natureza-Discreta/blob/main/Avalia%C3%A7%C3%A3o_Individual_RA1_C.ipynb\" target=\"_parent\"><img src=\"https://colab.research.google.com/assets/colab-badge.svg\" alt=\"Open In Colab\"/></a>"
      ]
    },
    {
      "cell_type": "markdown",
      "source": [
        "# Instruções:\n",
        "Para a realização desta tarefa você precisa fazer uma cópia deste carderno de questões para a sua conta. Você responderá a questão colando no AVA o link para a sua cópia contendo as suas respostas. \n",
        "\n",
        "Todas as questões precisam ser resolvidas algébrica e computacionalmente. Usando todos os recursos computacionais disponíveis na internet. Mas, você não pode consultar outros seres humanos. \n",
        "\n",
        "**Não se equeça de preencher seu nome nesta célula:**\n",
        "# Nome: Gabriel Coradin Cordeiro"
      ],
      "metadata": {
        "id": "N9MMbzueKAP-"
      }
    },
    {
      "cell_type": "markdown",
      "source": [
        "# Questão 1: \n",
        "O tempo necessário para baixar um arquivo pode ser calculado usando logaritmos. Se a taxa de transferência de dados é de 10 Mbps e o tamanho do arquivo é de 2 GB, quanto tempo levará para baixar o arquivo? Use a fórmula:\n",
        "\n",
        "$$\n",
        "T = \\frac{8 \\cdot S}{R \\cdot 10^6}\n",
        "$$\n",
        "\n",
        "onde $T$ é o tempo em segundos, $S$ é o tamanho do arquivo em GB e $R$ é a taxa de transferência em Mbps. Para calcular o tempo em minutos, faça $T / 60$. Não se esqueça de traçar um gráfico mostrando o o tempo de downloads para arquivos que estão entre 1 e 20 GB."
      ],
      "metadata": {
        "id": "PvsJvEFLKD9J"
      }
    },
    {
      "cell_type": "code",
      "execution_count": 1,
      "metadata": {
        "id": "dfbByDljJ7GM",
        "colab": {
          "base_uri": "https://localhost:8080/",
          "height": 306
        },
        "outputId": "77ca48dd-c213-4412-b6b9-35cbcd8eba45"
      },
      "outputs": [
        {
          "output_type": "display_data",
          "data": {
            "text/plain": [
              "<Figure size 432x288 with 1 Axes>"
            ],
            "image/png": "[encoded data removed]"
          },
          "metadata": {
            "needs_background": "light"
          }
        }
      ],
      "source": [
        "import matplotlib.pyplot as plt\n",
        "\n",
        "#valores para o tamanho do arquivo\n",
        "S = range(1, 21)\n",
        "\n",
        "# Definindo a taxa de transferência em Mbps\n",
        "R = 10\n",
        "\n",
        "# Calculo do tempo de download em minutos para cada tamanho de arquivo\n",
        "T = [(8 * s) / (R * 10**6 * 60) for s in S]\n",
        "\n",
        "# Plotando o gráfico\n",
        "plt.plot(S, T)\n",
        "plt.xlabel('Tamanho do arquivo (GB)')\n",
        "plt.ylabel('Tempo de download (minutos)')\n",
        "plt.title('Tempo de download em relação ao tamanho do arquivo')\n",
        "plt.show()\n"
      ]
    },
    {
      "cell_type": "markdown",
      "source": [
        "# Questão 2\n",
        "Usando, a seu critério, as bibliotecas do Python, crie um gráfico para cada uma das funções a seguir. No label do gráfico deverá estar a função impressa com qualidade matemática (latex) e uma label dizendo se a função é crescente ou decrescente. \n",
        "\n",
        "1. $e^x - 4x^2 = 0$\n",
        "\n",
        "2. $\\log_3(x^2 + 1) - \\log_3(x) = 2$"
      ],
      "metadata": {
        "id": "rmimtIaPP2ma"
      }
    },
    {
      "cell_type": "markdown",
      "source": [
        "1. $e^x - 4x^2 = 0$"
      ],
      "metadata": {
        "id": "3lIi5N6Z9FPQ"
      }
    },
    {
      "cell_type": "code",
      "source": [
        "import numpy as np\n",
        "import matplotlib.pyplot as plt\n",
        "\n",
        "# Definir a função\n",
        "def f(x):\n",
        "    return np.exp(x) - 4*x**2\n",
        "\n",
        "# Definir a derivada da função\n",
        "def df(x):\n",
        "    return np.exp(x) - 8*x\n",
        "\n",
        "# Definir a função de iteração de Newton\n",
        "def newton(f, df, x0, tol=1e-6, max_iter=100):\n",
        "    x = x0\n",
        "    for i in range(max_iter):\n",
        "        fx = f(x)\n",
        "        dfx = df(x)\n",
        "        if abs(fx) < tol:\n",
        "            return x\n",
        "        x = x - fx/dfx\n",
        "    raise Exception(\"O método de Newton falhou\")\n",
        "\n",
        "# Encontrar a raiz da função\n",
        "x_root = newton(f, df, x0=1)\n",
        "print(\"Raiz da função: \", x_root)\n",
        "\n",
        "# Definir o intervalo de x\n",
        "x = np.linspace(-1, 2, 1000)\n",
        "\n",
        "# Definir a função e sua derivada\n",
        "y = np.exp(x) - 4*x**2\n",
        "dy = np.exp(x) - 8*x\n",
        "\n",
        "# Plotar a função\n",
        "plt.plot(x, y, label=r\"$e^x - 4x^2 = 0$\")\n",
        "\n",
        "# Encontrar o sinal da derivada em torno da raiz\n",
        "df_root = df(x_root)\n",
        "if df_root > 0:\n",
        "    label = \"Crescente\"\n",
        "elif df_root < 0:\n",
        "    label = \"Decrescente\"\n",
        "else:\n",
        "    label = \"Mínimo local\"\n",
        "plt.title(label=label)\n",
        "\n",
        "# Adicionar eixos x e y\n",
        "plt.xlabel(\"x\")\n",
        "plt.ylabel(\"y\")\n",
        "\n",
        "# Adicionar grade\n",
        "plt.grid()\n",
        "\n",
        "# Adicionar legenda\n",
        "plt.legend()\n",
        "\n",
        "# Mostrar o gráfico\n",
        "plt.show()\n"
      ],
      "metadata": {
        "id": "bqMY38LiSQi1",
        "colab": {
          "base_uri": "https://localhost:8080/",
          "height": 312
        },
        "outputId": "c0e9ec8b-28fe-44d8-eb55-e2003b221a40"
      },
      "execution_count": 5,
      "outputs": [
        {
          "output_type": "stream",
          "name": "stdout",
          "text": [
            "Raiz da função:  0.7148059123645796\n"
          ]
        },
        {
          "output_type": "display_data",
          "data": {
            "text/plain": [
              "<Figure size 432x288 with 1 Axes>"
            ],
            "image/png": "[encoded data removed]"
          },
          "metadata": {
            "needs_background": "light"
          }
        }
      ]
    },
    {
      "cell_type": "markdown",
      "source": [
        "2. $\\log_3(x^2 + 1) - \\log_3(x) = 2$"
      ],
      "metadata": {
        "id": "BMySsI319QT0"
      }
    },
    {
      "cell_type": "code",
      "source": [
        "import numpy as np\n",
        "import matplotlib.pyplot as plt\n",
        "\n",
        "#função\n",
        "def f(x):\n",
        "    return np.log(x**2 + 1) / np.log(3) - np.log(x) / np.log(3) - 2\n",
        "\n",
        "#derivada da função\n",
        "def df(x):\n",
        "    return (2*x) / (x**2 + 1) / np.log(3) - 1 / (x*np.log(3))\n",
        "\n",
        "# Implementar o método de Newton\n",
        "def newton(f, df, x0, tol=1e-8, max_iter=100):\n",
        "    x = x0\n",
        "    for i in range(max_iter):\n",
        "        fx = f(x)\n",
        "        if abs(fx) < tol:\n",
        "            return x\n",
        "        dfx = df(x)\n",
        "        if dfx == 0:\n",
        "            break\n",
        "        x -= fx / dfx\n",
        "    return x\n",
        "\n",
        "# Encontrar a raiz da função\n",
        "x_root = newton(f, df, x0=1)\n",
        "print(\"Raiz da função: \", x_root)\n",
        "\n",
        "# Definir o intervalo de x\n",
        "x = np.linspace(0.1, 2, 1000)\n",
        "\n",
        "# Definir a função e sua derivada\n",
        "y = f(x)\n",
        "dy = df(x)\n",
        "\n",
        "# Plotar a função\n",
        "plt.plot(x, y, label=r\"$\\log_3(x^2+1)-\\log_3(x)=2$\")\n",
        "\n",
        "# Encontrar o sinal da derivada em torno da raiz\n",
        "df_root = df(x_root)\n",
        "if df_root > 0:\n",
        "    label = \"Crescente\"\n",
        "elif df_root < 0:\n",
        "    label = \"Decrescente\"\n",
        "else:\n",
        "    label = \"Mínimo local\"\n",
        "plt.title(label=label)\n",
        "\n",
        "# Adicionar eixos x e y\n",
        "plt.xlabel(\"x\")\n",
        "plt.ylabel(\"y\")\n",
        "\n",
        "# Adicionar grade\n",
        "plt.grid()\n",
        "\n",
        "# Adicionar legenda\n",
        "plt.legend()\n",
        "\n",
        "# Mostrar o gráfico\n",
        "plt.show()\n"
      ],
      "metadata": {
        "colab": {
          "base_uri": "https://localhost:8080/",
          "height": 312
        },
        "id": "ql8vMBmM9SCP",
        "outputId": "844e3587-eff9-4f41-d7bd-958c33a43d11"
      },
      "execution_count": 6,
      "outputs": [
        {
          "output_type": "stream",
          "name": "stdout",
          "text": [
            "Raiz da função:  1\n"
          ]
        },
        {
          "output_type": "display_data",
          "data": {
            "text/plain": [
              "<Figure size 432x288 with 1 Axes>"
            ],
            "image/png": "[encoded data removed]"
          },
          "metadata": {
            "needs_background": "light"
          }
        }
      ]
    },
    {
      "cell_type": "markdown",
      "source": [
        "# Questão 3\n",
        "Usando o Sympy, ou qualquer outro recurso disponível na internet, escreva, com qualidade matemática o passo-a-passo algébrico que leva a determinação dos seguintes limites. Ao final, para cada uma das equações você deverá traçar um gráfico da função. \n",
        "\n",
        "1. $\\lim_{x \\to 0} \\frac{\\sin(2x)}{x}$\n",
        "\n",
        "2. $\\lim_{x \\to \\infty} \\frac{e^x}{x^3}$"
      ],
      "metadata": {
        "id": "mkmn4fVESRYf"
      }
    },
    {
      "cell_type": "markdown",
      "source": [
        "1. $\\lim_{x \\to 0} \\frac{\\sin(2x)}{x}$"
      ],
      "metadata": {
        "id": "8PMaJ7xK-rnV"
      }
    },
    {
      "cell_type": "markdown",
      "source": [
        "$\\lim_{x \\to 0} \\frac{\\sin(2x)}{x} = \\lim_{x \\to 0} \\frac{2\\sin(x)\\cos(x)}{x} = \\lim_{x \\to 0} 2\\cos(x) = 2$\n",
        "\n",
        "\n",
        "$\\lim_{x \\to 0} \\frac{\\sin(2x)}{x} = \\lim_{x \\to 0} \\frac{2\\sin(x)\\cos(x)}{x} = 2\\lim_{x \\to 0} \\frac{\\sin(x)}{x} \\cos(x) = 2\\cos(0) = 2$\n",
        "\n",
        "limite é igual a $2$."
      ],
      "metadata": {
        "id": "7Df-41xL_kdq"
      }
    },
    {
      "cell_type": "code",
      "source": [
        "import sympy as sp\n",
        "import matplotlib.pyplot as plt\n",
        "\n",
        "# Definir a variável simbólica x\n",
        "x = sp.symbols('x')\n",
        "\n",
        "# Definir a função\n",
        "f = sp.sin(2*x)/x\n",
        "\n",
        "# Calcular o limite\n",
        "limit = sp.limit(f, x, 0)\n",
        "print(\"Limite:\", limit)\n",
        "\n",
        "# Plotar o gráfico da função\n",
        "sp.plot(f, xlim=(-1,1), ylim=(-2,2))\n",
        "plt.xlabel(\"x\")\n",
        "plt.ylabel(\"y\")\n",
        "plt.grid()\n",
        "plt.show()\n"
      ],
      "metadata": {
        "colab": {
          "base_uri": "https://localhost:8080/",
          "height": 580
        },
        "id": "c9-1q3ys_HTN",
        "outputId": "af080ee7-919e-4b6a-c7f8-a58095a1da16"
      },
      "execution_count": 7,
      "outputs": [
        {
          "output_type": "stream",
          "name": "stdout",
          "text": [
            "Limite: 2\n"
          ]
        },
        {
          "output_type": "display_data",
          "data": {
            "text/plain": [
              "<Figure size 432x288 with 1 Axes>"
            ],
            "image/png": "[encoded data removed]"
          },
          "metadata": {
            "needs_background": "light"
          }
        },
        {
          "output_type": "display_data",
          "data": {
            "text/plain": [
              "<Figure size 432x288 with 1 Axes>"
            ],
            "image/png": "[encoded data removed]"
          },
          "metadata": {
            "needs_background": "light"
          }
        }
      ]
    },
    {
      "cell_type": "markdown",
      "source": [
        "2. $\\lim_{x \\to \\infty} \\frac{e^x}{x^3}$"
      ],
      "metadata": {
        "id": "wOonJLCJANS4"
      }
    },
    {
      "cell_type": "markdown",
      "source": [
        "$\\lim_{x \\to \\infty} \\frac{e^x}{x^3} = \\lim_{x \\to \\infty} \\frac{e^x}{(x^2) x} = \\lim_{x \\to \\infty} \\frac{e^x}{x^2} \\cdot \\frac{1}{x}$\n",
        "\n",
        "\n",
        "$\\lim_{x \\to \\infty} \\frac{e^x}{x^3} = \\lim_{x \\to \\infty} \\frac{e^x}{x^2} \\cdot \\frac{1}{x} = \\infty \\cdot 0 = 0$\n",
        "\n",
        "limite $=0$."
      ],
      "metadata": {
        "id": "iAB8TqWOAdTW"
      }
    },
    {
      "cell_type": "code",
      "source": [
        "import sympy as sp\n",
        "import matplotlib.pyplot as plt\n",
        "\n",
        "# Definir a variável simbólica x\n",
        "x = sp.symbols('x')\n",
        "\n",
        "# Definir a função\n",
        "f = sp.exp(x)/x**3\n",
        "\n",
        "# Calcular o limite\n",
        "limit = sp.limit(f, x, sp.oo)\n",
        "print(\"Limite:\", limit)\n",
        "\n",
        "# Plotar o gráfico da função\n",
        "sp.plot(f, xlim=(0,10), ylim=(0,1000))\n",
        "plt.xlabel(\"x\")\n",
        "plt.ylabel(\"y\")\n",
        "plt.grid()\n",
        "plt.show()\n"
      ],
      "metadata": {
        "colab": {
          "base_uri": "https://localhost:8080/",
          "height": 580
        },
        "id": "BU6tRuPQANvQ",
        "outputId": "04170442-cb76-4804-d832-8a026c5da5e1"
      },
      "execution_count": 8,
      "outputs": [
        {
          "output_type": "stream",
          "name": "stdout",
          "text": [
            "Limite: oo\n"
          ]
        },
        {
          "output_type": "display_data",
          "data": {
            "text/plain": [
              "<Figure size 432x288 with 1 Axes>"
            ],
            "image/png": "[encoded data removed]"
          },
          "metadata": {
            "needs_background": "light"
          }
        },
        {
          "output_type": "display_data",
          "data": {
            "text/plain": [
              "<Figure size 432x288 with 1 Axes>"
            ],
            "image/png": "[encoded data removed]"
          },
          "metadata": {
            "needs_background": "light"
          }
        }
      ]
    }
  ]
}